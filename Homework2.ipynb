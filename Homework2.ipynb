{
 "cells": [
  {
   "cell_type": "markdown",
   "metadata": {},
   "source": [
    "# Text Analytics | BAIS:6100\n",
    "# Homework 2. Python Basics for Text Processing Part 2"
   ]
  },
  {
   "cell_type": "markdown",
   "metadata": {},
   "source": [
    "13 questions, 7 points in total"
   ]
  },
  {
   "cell_type": "markdown",
   "metadata": {},
   "source": [
    "## Honor Code and Policies\n",
    "#### \"I pledge that I will turn in work that is my own and will not share code for this homework with anyone else.\""
   ]
  },
  {
   "cell_type": "markdown",
   "metadata": {},
   "source": [
    "Your full name: Somer Sinnard, Date: 2/23/2023"
   ]
  },
  {
   "cell_type": "markdown",
   "metadata": {},
   "source": [
    "## Instructions"
   ]
  },
  {
   "cell_type": "markdown",
   "metadata": {},
   "source": [
    "- Fill in the Python statements needed to complete all the questions below. \n",
    "- Program everything inside this notebook. \n",
    "- Use only one cell per question. \n",
    "- Each code cell must be run with no errors.\n",
    "- Do not contain any unnecessary code in your answer. (Only the final outcome will be regarded as your answer.)\n",
    "- If the question requests that you store information in a certain variable, use the specific variables name (case sensitive).\n",
    "- All problems must be solved in a programmable way.\n",
    "- When you are done, make sure to save your notebook and then click Restart & Run All before subimission to create a clean version."
   ]
  },
  {
   "cell_type": "markdown",
   "metadata": {},
   "source": [
    "## Questions"
   ]
  },
  {
   "cell_type": "markdown",
   "metadata": {},
   "source": [
    "Import the two modules <b>random</b> and <b>string</b> and re-use the `generate_random_string` function. "
   ]
  },
  {
   "cell_type": "code",
   "execution_count": 1,
   "metadata": {},
   "outputs": [],
   "source": [
    "import random\n",
    "import string\n",
    "\n",
    "def generate_random_string(seq, min_len, max_len):\n",
    "    return \"\".join([random.choice(seq) for i in range(random.choice(range(min_len, max_len+1)))])"
   ]
  },
  {
   "cell_type": "markdown",
   "metadata": {},
   "source": [
    "1\\. (0.5 pts) Create a new file `hw2_output.csv` in the `outcome` folder. The first row in the file contains two column names `rid` and `num`. The following 1000 rows contain the following two column values: the first column has row IDs ranging from 1 to 1000 and the second column has strings of 5-10 random digits. Rows are separated by a new line and columns by a comma. For example, the first five rows in the file look as below. (Notice that the numbers below in the second column should be different than yours as they were randomly generated.) "
   ]
  },
  {
   "cell_type": "raw",
   "metadata": {},
   "source": [
    "rid,num\n",
    "1,5494572\n",
    "2,17654\n",
    "3,1196825\n",
    "4,05998"
   ]
  },
  {
   "cell_type": "code",
   "execution_count": 2,
   "metadata": {},
   "outputs": [],
   "source": [
    "# Your answer here\n",
    "with open(\"outcome/hw2_output.csv\", mode=\"w\") as fw:\n",
    "    fw.write(\"rid,num\\n\")\n",
    "    \n",
    "    for i in range(1000):\n",
    "        rid = i\n",
    "        num = generate_random_string(string.digits, 5, 10)\n",
    "        \n",
    "        fw.write(f\"{rid},{num}\\n\")"
   ]
  },
  {
   "cell_type": "code",
   "execution_count": 3,
   "metadata": {},
   "outputs": [
    {
     "data": {
      "text/plain": [
       "True"
      ]
     },
     "execution_count": 3,
     "metadata": {},
     "output_type": "execute_result"
    }
   ],
   "source": [
    "# Check your answer here. (Do not make any change to this cell. Just run this cell.)\n",
    "import os\n",
    "os.path.isfile(\"outcome/hw2_output.csv\")     # Expected output: True"
   ]
  },
  {
   "cell_type": "markdown",
   "metadata": {},
   "source": [
    "Dictionary `d` simply maps each digit character to a puncutation character."
   ]
  },
  {
   "cell_type": "code",
   "execution_count": 4,
   "metadata": {},
   "outputs": [],
   "source": [
    "# Make sure to run this cell.\n",
    "d = {\n",
    "    \"1\": \"!\",\n",
    "    \"2\": \"@\", \n",
    "    \"3\": \"#\",\n",
    "    \"4\": \"$\",\n",
    "    \"5\": \"%\",\n",
    "    \"6\": \"^\",\n",
    "    \"7\": \"&\",\n",
    "    \"8\": \"*\",\n",
    "    \"9\": \"(\",\n",
    "    \"0\": \")\", \n",
    "}"
   ]
  },
  {
   "cell_type": "markdown",
   "metadata": {},
   "source": [
    "2\\. (0.7 pts) Create a file `hw2_output2.csv` in the `outcome` folder. The first row in the file contains three column names `rid`, `num`, and `code`. The following 1000 rows contain the following three column values: the first column has the same row IDs as above; the second column has strings of random digits with the same rule as above; the third column has code strings, each character of which is the corresponding value for the key in the dictionary `d`. For example, if the random string of digits is '3164482864', its corresponding code string is '#!^\\$\\$\\*@\\*^$', as '3' is mapped to '#', '1' is to '!', so on and so forth. Rows are separated by a new line and columns by a comma. For example, the first five rows in the file look as below. (Notice that the numbers and strings below should be different than yours as they were randomly generated.) "
   ]
  },
  {
   "cell_type": "raw",
   "metadata": {},
   "source": [
    "rid,num,code\n",
    "1,3164482864,#!^$$*@*^$\n",
    "2,2233297733,@@##@(&&##\n",
    "3,7713718,&&!#&!*\n",
    "4,373982531,#&#(*@%#!"
   ]
  },
  {
   "cell_type": "code",
   "execution_count": 5,
   "metadata": {},
   "outputs": [],
   "source": [
    "# Your answer here\n",
    "with open(\"outcome/hw2_output2.csv\", mode=\"w\") as fw:\n",
    "    fw.write(\"rid,num,code\\n\")\n",
    "    \n",
    "    for i in range(1000):\n",
    "        rid = i\n",
    "        num = generate_random_string(string.digits, 5, 10)\n",
    "        for c in num: code = d[c]\n",
    "        \n",
    "        fw.write(f\"{rid},{num},{code}\\n\")"
   ]
  },
  {
   "cell_type": "code",
   "execution_count": 6,
   "metadata": {},
   "outputs": [
    {
     "data": {
      "text/plain": [
       "True"
      ]
     },
     "execution_count": 6,
     "metadata": {},
     "output_type": "execute_result"
    }
   ],
   "source": [
    "# Check your answer here. (Do not make any change to this cell. Just run this cell.)\n",
    "os.path.isfile(\"outcome/hw2_output2.csv\")     # Expected output: True"
   ]
  },
  {
   "cell_type": "markdown",
   "metadata": {},
   "source": [
    "<hr>"
   ]
  },
  {
   "cell_type": "markdown",
   "metadata": {},
   "source": [
    "Import the <b>Pandas</b> package and set the max column width to 150. "
   ]
  },
  {
   "cell_type": "code",
   "execution_count": 7,
   "metadata": {},
   "outputs": [],
   "source": [
    "import pandas as pd\n",
    "pd.set_option('display.max_colwidth', 150)"
   ]
  },
  {
   "cell_type": "markdown",
   "metadata": {},
   "source": [
    "3\\. (0.5 pts) Read the `tweets_hashtag_happy.csv` file in the `classdata/tweets` folder into a Pandas dataframe `df`.   "
   ]
  },
  {
   "cell_type": "code",
   "execution_count": 8,
   "metadata": {},
   "outputs": [],
   "source": [
    "# Your answer here\n",
    "df = pd.read_csv(f\"classdata/tweets/tweets_hashtag_happy.csv\", sep=\"\\t\")"
   ]
  },
  {
   "cell_type": "code",
   "execution_count": 9,
   "metadata": {
    "scrolled": true
   },
   "outputs": [
    {
     "data": {
      "text/html": [
       "<div>\n",
       "<style scoped>\n",
       "    .dataframe tbody tr th:only-of-type {\n",
       "        vertical-align: middle;\n",
       "    }\n",
       "\n",
       "    .dataframe tbody tr th {\n",
       "        vertical-align: top;\n",
       "    }\n",
       "\n",
       "    .dataframe thead th {\n",
       "        text-align: right;\n",
       "    }\n",
       "</style>\n",
       "<table border=\"1\" class=\"dataframe\">\n",
       "  <thead>\n",
       "    <tr style=\"text-align: right;\">\n",
       "      <th></th>\n",
       "      <th>created_at</th>\n",
       "      <th>user_screen_name</th>\n",
       "      <th>user_name</th>\n",
       "      <th>text</th>\n",
       "      <th>is_rt</th>\n",
       "      <th>rt_created_at</th>\n",
       "    </tr>\n",
       "  </thead>\n",
       "  <tbody>\n",
       "    <tr>\n",
       "      <th>0</th>\n",
       "      <td>Fri Jan 01 05:01:18 +0000 2021</td>\n",
       "      <td>WrenthamLions</td>\n",
       "      <td>Wrentham Lions</td>\n",
       "      <td>#Happy New Year - may it be prosperous and healthy for all@WrenthamTimes @WrenthamMATA @kpleo123 @WrenPD… https://t.co/blp9iRZRmu</td>\n",
       "      <td>0</td>\n",
       "      <td>NaN</td>\n",
       "    </tr>\n",
       "    <tr>\n",
       "      <th>1</th>\n",
       "      <td>Fri Jan 01 05:02:44 +0000 2021</td>\n",
       "      <td>jlints58</td>\n",
       "      <td>Jerry Lints</td>\n",
       "      <td>RT @MujahidIslambd: I will promote and share your business with millions of peoplehttps://t.co/HtQtb838bQ#Happy New Year#MF DOOM#Feli…</td>\n",
       "      <td>1</td>\n",
       "      <td>Fri Jan 01 01:52:29 +0000 2021</td>\n",
       "    </tr>\n",
       "    <tr>\n",
       "      <th>2</th>\n",
       "      <td>Fri Jan 01 05:04:13 +0000 2021</td>\n",
       "      <td>Divah_Filez</td>\n",
       "      <td>The Divah Filez</td>\n",
       "      <td>#tammyrivera and her daughter #charlie out &amp;amp; about living their best life 😍😍 #mother #daughter #love #beach #happy… https://t.co/1VqzGOEjGB</td>\n",
       "      <td>0</td>\n",
       "      <td>NaN</td>\n",
       "    </tr>\n",
       "    <tr>\n",
       "      <th>3</th>\n",
       "      <td>Fri Jan 01 05:06:45 +0000 2021</td>\n",
       "      <td>Nanada023</td>\n",
       "      <td>Nanada02</td>\n",
       "      <td>RT @Suriya79675998: #happy valentine's day 2020🌹🌹🌹🌹 https://t.co/EvmupTbseg</td>\n",
       "      <td>1</td>\n",
       "      <td>Sat Feb 15 06:00:08 +0000 2020</td>\n",
       "    </tr>\n",
       "    <tr>\n",
       "      <th>4</th>\n",
       "      <td>Fri Jan 01 05:11:23 +0000 2021</td>\n",
       "      <td>sectest9</td>\n",
       "      <td>Security Testing</td>\n",
       "      <td>RT @GPS_SecurityCan: Have a safe and Happy New Year #2021 #happy #globalprotectionservice #securityservices #ontarioSecurity #security #gau…</td>\n",
       "      <td>1</td>\n",
       "      <td>Fri Jan 01 05:07:03 +0000 2021</td>\n",
       "    </tr>\n",
       "    <tr>\n",
       "      <th>...</th>\n",
       "      <td>...</td>\n",
       "      <td>...</td>\n",
       "      <td>...</td>\n",
       "      <td>...</td>\n",
       "      <td>...</td>\n",
       "      <td>...</td>\n",
       "    </tr>\n",
       "    <tr>\n",
       "      <th>61120</th>\n",
       "      <td>Fri Dec 31 23:37:02 +0000 2021</td>\n",
       "      <td>Weston_tyl</td>\n",
       "      <td>Weston</td>\n",
       "      <td>Rainy day. #Weston #LabradorRetriever #dog #happy #blessed #newyear #rain #care #spoiled #thankyou #friends #love… https://t.co/D7DYLfUyNv</td>\n",
       "      <td>0</td>\n",
       "      <td>NaN</td>\n",
       "    </tr>\n",
       "    <tr>\n",
       "      <th>61121</th>\n",
       "      <td>Fri Dec 31 23:38:02 +0000 2021</td>\n",
       "      <td>ceeceestarr</td>\n",
       "      <td>ceecee starr</td>\n",
       "      <td>#happy #f*cking #newyear   #2022 #everybody https://t.co/jepIZM7TGY</td>\n",
       "      <td>0</td>\n",
       "      <td>NaN</td>\n",
       "    </tr>\n",
       "    <tr>\n",
       "      <th>61122</th>\n",
       "      <td>Fri Dec 31 23:42:45 +0000 2021</td>\n",
       "      <td>rapkhalifa</td>\n",
       "      <td>Mo Hawk Rap Khalifa</td>\n",
       "      <td>#Happy #NewYear to each and everyone of you. May #2022 be filled with joy, peace and happiness. One Luv. https://t.co/6QGyj2yWjI</td>\n",
       "      <td>0</td>\n",
       "      <td>NaN</td>\n",
       "    </tr>\n",
       "    <tr>\n",
       "      <th>61123</th>\n",
       "      <td>Fri Dec 31 23:43:00 +0000 2021</td>\n",
       "      <td>AsgardSoft</td>\n",
       "      <td>AsgardSoft GmbH</td>\n",
       "      <td>RT @PitTheRedPanda: Happy New Yearhttps://t.co/JTSiTRIlxM#AsgardSoft #happy #new #year #2022 #love #music #instagood #art #beautiful #p…</td>\n",
       "      <td>1</td>\n",
       "      <td>Fri Dec 31 23:42:49 +0000 2021</td>\n",
       "    </tr>\n",
       "    <tr>\n",
       "      <th>61124</th>\n",
       "      <td>Fri Dec 31 23:46:47 +0000 2021</td>\n",
       "      <td>AliyevaMeftune</td>\n",
       "      <td>eva</td>\n",
       "      <td>Happy new years#💞#🥳 #🎉 #🎊 #happynewyear #happy #instagood #instagram #happy2022 #noel #merrychristmas #art #newpost… https://t.co/QEnxtL4AVG</td>\n",
       "      <td>0</td>\n",
       "      <td>NaN</td>\n",
       "    </tr>\n",
       "  </tbody>\n",
       "</table>\n",
       "<p>61125 rows × 6 columns</p>\n",
       "</div>"
      ],
      "text/plain": [
       "                           created_at user_screen_name            user_name  \\\n",
       "0      Fri Jan 01 05:01:18 +0000 2021    WrenthamLions       Wrentham Lions   \n",
       "1      Fri Jan 01 05:02:44 +0000 2021         jlints58          Jerry Lints   \n",
       "2      Fri Jan 01 05:04:13 +0000 2021      Divah_Filez      The Divah Filez   \n",
       "3      Fri Jan 01 05:06:45 +0000 2021        Nanada023             Nanada02   \n",
       "4      Fri Jan 01 05:11:23 +0000 2021         sectest9     Security Testing   \n",
       "...                               ...              ...                  ...   \n",
       "61120  Fri Dec 31 23:37:02 +0000 2021       Weston_tyl               Weston   \n",
       "61121  Fri Dec 31 23:38:02 +0000 2021      ceeceestarr         ceecee starr   \n",
       "61122  Fri Dec 31 23:42:45 +0000 2021       rapkhalifa  Mo Hawk Rap Khalifa   \n",
       "61123  Fri Dec 31 23:43:00 +0000 2021       AsgardSoft      AsgardSoft GmbH   \n",
       "61124  Fri Dec 31 23:46:47 +0000 2021   AliyevaMeftune                  eva   \n",
       "\n",
       "                                                                                                                                                  text  \\\n",
       "0                    #Happy New Year - may it be prosperous and healthy for all@WrenthamTimes @WrenthamMATA @kpleo123 @WrenPD… https://t.co/blp9iRZRmu   \n",
       "1               RT @MujahidIslambd: I will promote and share your business with millions of peoplehttps://t.co/HtQtb838bQ#Happy New Year#MF DOOM#Feli…   \n",
       "2      #tammyrivera and her daughter #charlie out &amp; about living their best life 😍😍 #mother #daughter #love #beach #happy… https://t.co/1VqzGOEjGB   \n",
       "3                                                                          RT @Suriya79675998: #happy valentine's day 2020🌹🌹🌹🌹 https://t.co/EvmupTbseg   \n",
       "4         RT @GPS_SecurityCan: Have a safe and Happy New Year #2021 #happy #globalprotectionservice #securityservices #ontarioSecurity #security #gau…   \n",
       "...                                                                                                                                                ...   \n",
       "61120       Rainy day. #Weston #LabradorRetriever #dog #happy #blessed #newyear #rain #care #spoiled #thankyou #friends #love… https://t.co/D7DYLfUyNv   \n",
       "61121                                                                              #happy #f*cking #newyear   #2022 #everybody https://t.co/jepIZM7TGY   \n",
       "61122                 #Happy #NewYear to each and everyone of you. May #2022 be filled with joy, peace and happiness. One Luv. https://t.co/6QGyj2yWjI   \n",
       "61123         RT @PitTheRedPanda: Happy New Yearhttps://t.co/JTSiTRIlxM#AsgardSoft #happy #new #year #2022 #love #music #instagood #art #beautiful #p…   \n",
       "61124     Happy new years#💞#🥳 #🎉 #🎊 #happynewyear #happy #instagood #instagram #happy2022 #noel #merrychristmas #art #newpost… https://t.co/QEnxtL4AVG   \n",
       "\n",
       "       is_rt                   rt_created_at  \n",
       "0          0                             NaN  \n",
       "1          1  Fri Jan 01 01:52:29 +0000 2021  \n",
       "2          0                             NaN  \n",
       "3          1  Sat Feb 15 06:00:08 +0000 2020  \n",
       "4          1  Fri Jan 01 05:07:03 +0000 2021  \n",
       "...      ...                             ...  \n",
       "61120      0                             NaN  \n",
       "61121      0                             NaN  \n",
       "61122      0                             NaN  \n",
       "61123      1  Fri Dec 31 23:42:49 +0000 2021  \n",
       "61124      0                             NaN  \n",
       "\n",
       "[61125 rows x 6 columns]"
      ]
     },
     "execution_count": 9,
     "metadata": {},
     "output_type": "execute_result"
    }
   ],
   "source": [
    "# Check your answer here. (Do not make any change to this cell. Just run this cell.)\n",
    "df"
   ]
  },
  {
   "cell_type": "markdown",
   "metadata": {},
   "source": [
    "4\\. (0.5 pts) Select from `df` the element at row index position 100 and in the `created_at` column and then save it in the variable `ans4`."
   ]
  },
  {
   "cell_type": "code",
   "execution_count": 10,
   "metadata": {},
   "outputs": [],
   "source": [
    "# Your answer here\n",
    "ans4 = df[\"created_at\"][100]"
   ]
  },
  {
   "cell_type": "code",
   "execution_count": 11,
   "metadata": {},
   "outputs": [
    {
     "data": {
      "text/plain": [
       "'Fri Jan 01 09:31:13 +0000 2021'"
      ]
     },
     "execution_count": 11,
     "metadata": {},
     "output_type": "execute_result"
    }
   ],
   "source": [
    "# Check your answer here. (Do not make any change to this cell. Just run this cell.)\n",
    "ans4"
   ]
  },
  {
   "cell_type": "markdown",
   "metadata": {},
   "source": [
    "5\\. (0.5 pts) Select, from `df`, the rows with its `is_rt` column value being 0 (i.e. select only the normal tweets) and then, from the selected dataframe, create a random sample of 10 rows without duplicates. Set `random_state` to 0 when sampling. Save the final dataframe in the variable `ans5`."
   ]
  },
  {
   "cell_type": "code",
   "execution_count": 12,
   "metadata": {
    "scrolled": true
   },
   "outputs": [],
   "source": [
    "# Your answer here\n",
    "normal_tweets = df[df.is_rt == 0]\n",
    "ans5 = normal_tweets.sample(n=10, replace=False, random_state=0)"
   ]
  },
  {
   "cell_type": "code",
   "execution_count": 13,
   "metadata": {
    "scrolled": true
   },
   "outputs": [
    {
     "data": {
      "text/html": [
       "<div>\n",
       "<style scoped>\n",
       "    .dataframe tbody tr th:only-of-type {\n",
       "        vertical-align: middle;\n",
       "    }\n",
       "\n",
       "    .dataframe tbody tr th {\n",
       "        vertical-align: top;\n",
       "    }\n",
       "\n",
       "    .dataframe thead th {\n",
       "        text-align: right;\n",
       "    }\n",
       "</style>\n",
       "<table border=\"1\" class=\"dataframe\">\n",
       "  <thead>\n",
       "    <tr style=\"text-align: right;\">\n",
       "      <th></th>\n",
       "      <th>created_at</th>\n",
       "      <th>user_screen_name</th>\n",
       "      <th>user_name</th>\n",
       "      <th>text</th>\n",
       "      <th>is_rt</th>\n",
       "      <th>rt_created_at</th>\n",
       "    </tr>\n",
       "  </thead>\n",
       "  <tbody>\n",
       "    <tr>\n",
       "      <th>27775</th>\n",
       "      <td>Sun Jun 20 19:58:23 +0000 2021</td>\n",
       "      <td>coco_poof</td>\n",
       "      <td>Coco Poof</td>\n",
       "      <td>Everyone Wants A Dog Until.... (Funny) https://t.co/d2akKrpb2k  #cute #love #instagood #beautiful #like #happy… https://t.co/8spxRGUbXx</td>\n",
       "      <td>0</td>\n",
       "      <td>NaN</td>\n",
       "    </tr>\n",
       "    <tr>\n",
       "      <th>49376</th>\n",
       "      <td>Sat Oct 23 03:02:09 +0000 2021</td>\n",
       "      <td>aespresso_SM</td>\n",
       "      <td>aespresso #Savage (slow)</td>\n",
       "      <td>[trans] 211023 Ningning Vlive updateTitle: #HAPPY NINGNING DAY🎉Happy Birthday NINGNING🎂Happy birthday🦋… https://t.co/4TyE6ig480</td>\n",
       "      <td>0</td>\n",
       "      <td>NaN</td>\n",
       "    </tr>\n",
       "    <tr>\n",
       "      <th>45595</th>\n",
       "      <td>Wed Sep 29 02:18:52 +0000 2021</td>\n",
       "      <td>resilientme</td>\n",
       "      <td>ResilientMe</td>\n",
       "      <td>You got this!#family #fall #coming #update #spirit #stressmanagement #summer #taxcredit #thanks #happy https://t.co/qDjjaUgs7V</td>\n",
       "      <td>0</td>\n",
       "      <td>NaN</td>\n",
       "    </tr>\n",
       "    <tr>\n",
       "      <th>55225</th>\n",
       "      <td>Thu Nov 25 15:20:48 +0000 2021</td>\n",
       "      <td>GolfWx</td>\n",
       "      <td>GolfWorkx</td>\n",
       "      <td>Happy Thanksgiving!..#Thanksgiving #happy #golf #tennislife https://t.co/W223bQS1b7</td>\n",
       "      <td>0</td>\n",
       "      <td>NaN</td>\n",
       "    </tr>\n",
       "    <tr>\n",
       "      <th>43446</th>\n",
       "      <td>Tue Sep 14 19:37:04 +0000 2021</td>\n",
       "      <td>flaten_cody</td>\n",
       "      <td>Cody</td>\n",
       "      <td>You’re my favorite people 😁❤️#happy #love</td>\n",
       "      <td>0</td>\n",
       "      <td>NaN</td>\n",
       "    </tr>\n",
       "    <tr>\n",
       "      <th>44743</th>\n",
       "      <td>Thu Sep 23 14:03:50 +0000 2021</td>\n",
       "      <td>FayeWearsATiara</td>\n",
       "      <td>Faye Flores-Navarro 👑</td>\n",
       "      <td>7 years in 3 days. Being your wife is nothing but pure bliss, Mahal ko! 🥰😘❤✨#Happy #Blessed #Loved https://t.co/4ZGwM6DkMn</td>\n",
       "      <td>0</td>\n",
       "      <td>NaN</td>\n",
       "    </tr>\n",
       "    <tr>\n",
       "      <th>4271</th>\n",
       "      <td>Thu Jan 28 19:24:14 +0000 2021</td>\n",
       "      <td>prettyboutique7</td>\n",
       "      <td>pretty.boutique</td>\n",
       "      <td>Women Bag Brand Designer Handbag Tassel Crossbody Shoulder Bags Ladies Purse Bolsa#amazing #happy… https://t.co/8Me5wzk1cC</td>\n",
       "      <td>0</td>\n",
       "      <td>NaN</td>\n",
       "    </tr>\n",
       "    <tr>\n",
       "      <th>22527</th>\n",
       "      <td>Mon May 17 14:46:47 +0000 2021</td>\n",
       "      <td>Fritzde357</td>\n",
       "      <td>Tim DeAngelis</td>\n",
       "      <td>#dogecoin #Crypto #SpaceX #dogearmy #doge4weed #doge4alcohol. Be #happy #healthy #ShibaCoin #dogecoin #Cardano… https://t.co/Ie2BHDj8ZJ</td>\n",
       "      <td>0</td>\n",
       "      <td>NaN</td>\n",
       "    </tr>\n",
       "    <tr>\n",
       "      <th>31870</th>\n",
       "      <td>Mon Jul 19 06:06:20 +0000 2021</td>\n",
       "      <td>amandakipman</td>\n",
       "      <td>Amanda Kipman</td>\n",
       "      <td>Hiking the Red Valley and White Valley… #latergram #hiking #hikingadventures #vacation #fun #happy #cappadocia… https://t.co/kgJx6cSg9F</td>\n",
       "      <td>0</td>\n",
       "      <td>NaN</td>\n",
       "    </tr>\n",
       "    <tr>\n",
       "      <th>42460</th>\n",
       "      <td>Fri Sep 10 11:33:37 +0000 2021</td>\n",
       "      <td>Thannambikkai_v</td>\n",
       "      <td>#thannambikkai_varigal</td>\n",
       "      <td>Daily Quotes#thannambikkai_varigal #successquotes #motivationalquotes #motivation #happy https://t.co/AnrEAkQVJ4</td>\n",
       "      <td>0</td>\n",
       "      <td>NaN</td>\n",
       "    </tr>\n",
       "  </tbody>\n",
       "</table>\n",
       "</div>"
      ],
      "text/plain": [
       "                           created_at user_screen_name  \\\n",
       "27775  Sun Jun 20 19:58:23 +0000 2021        coco_poof   \n",
       "49376  Sat Oct 23 03:02:09 +0000 2021     aespresso_SM   \n",
       "45595  Wed Sep 29 02:18:52 +0000 2021      resilientme   \n",
       "55225  Thu Nov 25 15:20:48 +0000 2021           GolfWx   \n",
       "43446  Tue Sep 14 19:37:04 +0000 2021      flaten_cody   \n",
       "44743  Thu Sep 23 14:03:50 +0000 2021  FayeWearsATiara   \n",
       "4271   Thu Jan 28 19:24:14 +0000 2021  prettyboutique7   \n",
       "22527  Mon May 17 14:46:47 +0000 2021       Fritzde357   \n",
       "31870  Mon Jul 19 06:06:20 +0000 2021     amandakipman   \n",
       "42460  Fri Sep 10 11:33:37 +0000 2021  Thannambikkai_v   \n",
       "\n",
       "                      user_name  \\\n",
       "27775                 Coco Poof   \n",
       "49376  aespresso #Savage (slow)   \n",
       "45595               ResilientMe   \n",
       "55225                 GolfWorkx   \n",
       "43446                      Cody   \n",
       "44743     Faye Flores-Navarro 👑   \n",
       "4271            pretty.boutique   \n",
       "22527             Tim DeAngelis   \n",
       "31870             Amanda Kipman   \n",
       "42460    #thannambikkai_varigal   \n",
       "\n",
       "                                                                                                                                          text  \\\n",
       "27775  Everyone Wants A Dog Until.... (Funny) https://t.co/d2akKrpb2k  #cute #love #instagood #beautiful #like #happy… https://t.co/8spxRGUbXx   \n",
       "49376          [trans] 211023 Ningning Vlive updateTitle: #HAPPY NINGNING DAY🎉Happy Birthday NINGNING🎂Happy birthday🦋… https://t.co/4TyE6ig480   \n",
       "45595           You got this!#family #fall #coming #update #spirit #stressmanagement #summer #taxcredit #thanks #happy https://t.co/qDjjaUgs7V   \n",
       "55225                                                      Happy Thanksgiving!..#Thanksgiving #happy #golf #tennislife https://t.co/W223bQS1b7   \n",
       "43446                                                                                                You’re my favorite people 😁❤️#happy #love   \n",
       "44743               7 years in 3 days. Being your wife is nothing but pure bliss, Mahal ko! 🥰😘❤✨#Happy #Blessed #Loved https://t.co/4ZGwM6DkMn   \n",
       "4271                Women Bag Brand Designer Handbag Tassel Crossbody Shoulder Bags Ladies Purse Bolsa#amazing #happy… https://t.co/8Me5wzk1cC   \n",
       "22527  #dogecoin #Crypto #SpaceX #dogearmy #doge4weed #doge4alcohol. Be #happy #healthy #ShibaCoin #dogecoin #Cardano… https://t.co/Ie2BHDj8ZJ   \n",
       "31870  Hiking the Red Valley and White Valley… #latergram #hiking #hikingadventures #vacation #fun #happy #cappadocia… https://t.co/kgJx6cSg9F   \n",
       "42460                         Daily Quotes#thannambikkai_varigal #successquotes #motivationalquotes #motivation #happy https://t.co/AnrEAkQVJ4   \n",
       "\n",
       "       is_rt rt_created_at  \n",
       "27775      0           NaN  \n",
       "49376      0           NaN  \n",
       "45595      0           NaN  \n",
       "55225      0           NaN  \n",
       "43446      0           NaN  \n",
       "44743      0           NaN  \n",
       "4271       0           NaN  \n",
       "22527      0           NaN  \n",
       "31870      0           NaN  \n",
       "42460      0           NaN  "
      ]
     },
     "execution_count": 13,
     "metadata": {},
     "output_type": "execute_result"
    }
   ],
   "source": [
    "# Check your answer here. (Do not make any change to this cell. Just run this cell.)\n",
    "ans5"
   ]
  },
  {
   "cell_type": "markdown",
   "metadata": {},
   "source": [
    "6\\. (0.5 pts) Select the first 15 values from the `created_at` column of `df` and print only the HH:MM:SS part in each value, where H denotes each digit in an hour, M each digit in a minute, and S each digit in a second. Rows in the printed output are separated by a new line. For example, the first three rows in the printed output must look the same as below:"
   ]
  },
  {
   "cell_type": "raw",
   "metadata": {},
   "source": [
    "05:01:18\n",
    "05:02:44\n",
    "05:04:13"
   ]
  },
  {
   "cell_type": "code",
   "execution_count": 14,
   "metadata": {},
   "outputs": [
    {
     "name": "stdout",
     "output_type": "stream",
     "text": [
      "05:01:18\n",
      "05:02:44\n",
      "05:04:13\n",
      "05:06:45\n",
      "05:11:23\n",
      "05:12:29\n",
      "05:16:56\n",
      "05:20:44\n",
      "05:21:07\n",
      "05:22:36\n",
      "05:25:43\n",
      "05:31:30\n",
      "05:33:39\n",
      "05:41:04\n",
      "05:41:09\n"
     ]
    }
   ],
   "source": [
    "# Your answer here\n",
    "\n",
    "for row in df.created_at[:15]:\n",
    "    print(row[11:19])"
   ]
  },
  {
   "cell_type": "markdown",
   "metadata": {},
   "source": [
    "7\\. (0.5 pts) Select the first 15 rows from `df` and print the values in each row in the following format: '\\[TYPE\\]  TEXT' where TYPE is either '*Tweet*' if the `is_rt` column value equals 0 or '*Retweet*' if 1, and TEXT is the `text` column value. Rows are separated by two new lines. For example, the printed output for the first three rows must look the same as below:"
   ]
  },
  {
   "cell_type": "raw",
   "metadata": {},
   "source": [
    "[Tweet] #Happy New Year - may it be prosperous and healthy for all@WrenthamTimes @WrenthamMATA @kpleo123 @WrenPD… https://t.co/blp9iRZRmu\n",
    "\n",
    "[Retweet] RT @MujahidIslambd: I will promote and share your business with millions of peoplehttps://t.co/HtQtb838bQ#Happy New Year#MF DOOM#Feli…\n",
    "\n",
    "[Tweet] #tammyrivera and her daughter #charlie out &amp; about living their best life 😍😍 #mother #daughter #love #beach #happy… https://t.co/1VqzGOEjGB"
   ]
  },
  {
   "cell_type": "code",
   "execution_count": 15,
   "metadata": {
    "scrolled": true
   },
   "outputs": [
    {
     "name": "stdout",
     "output_type": "stream",
     "text": [
      "[Tweet] #Happy New Year - may it be prosperous and healthy for all@WrenthamTimes @WrenthamMATA @kpleo123 @WrenPD… https://t.co/blp9iRZRmu\n",
      "\n",
      "[Retweet] RT @MujahidIslambd: I will promote and share your business with millions of peoplehttps://t.co/HtQtb838bQ#Happy New Year#MF DOOM#Feli…\n",
      "\n",
      "[Tweet] #tammyrivera and her daughter #charlie out &amp; about living their best life 😍😍 #mother #daughter #love #beach #happy… https://t.co/1VqzGOEjGB\n",
      "\n",
      "[Retweet] RT @Suriya79675998: #happy valentine's day 2020🌹🌹🌹🌹 https://t.co/EvmupTbseg\n",
      "\n",
      "[Retweet] RT @GPS_SecurityCan: Have a safe and Happy New Year #2021 #happy #globalprotectionservice #securityservices #ontarioSecurity #security #gau…\n",
      "\n",
      "[Tweet] ✨💙New Year's Eve 2021💜✨.........#happy #blessed #instagood #instatravel #instadaily #instapic #instamood… https://t.co/P5oDJEQ1Zr\n",
      "\n",
      "[Tweet] Happy new year all 🥳#NewYear2021 #happy #love #Hello2021 #2021makeawish #Bye2020 https://t.co/0vR9V5GusR\n",
      "\n",
      "[Retweet] RT @SUNtravelgal: Ahh ... last #sunset of #2020 #happy #NewYearsEve #byron #ldnont #forestcity #nature #outdoors #photography https://t.co/…\n",
      "\n",
      "[Tweet] #Happy New Year!\n",
      "\n",
      "[Tweet] # HAPPY NEW YEAR 2021 #Happy New Year #New Year Bargain 1/1 (Friday) -The “Piccoma Lucky Bag” event where you can g… https://t.co/8vpSU7JGDw\n",
      "\n",
      "[Tweet] Last selfie of the year... 🤗Good bye 2020.......#LastPic ##NewYear #Me #Happy #JustMe #GoodBye2020… https://t.co/XxPtuuUPlu\n",
      "\n",
      "[Tweet] happy new year 2021, burning the old for a fresh start! #newyear #2021 #keepmovingforward #love #light #happy… https://t.co/CQhB1Jmc57\n",
      "\n",
      "[Tweet] @EObsidian Happy new #happy\n",
      "\n",
      "[Retweet] RT @mamaafrikan: Pastor Chris new year eve rant - “don’t criticise pastors”  #dangote Amen #HAPPYNEWYEAR #happy dangote welcome to 2021 htt…\n",
      "\n",
      "[Retweet] RT @ScrupulousTech: Scrupulous Technology Develop a Website and Mobile App Since 2013. #happy #new #year #2021 #website #app #design #love…\n",
      "\n"
     ]
    }
   ],
   "source": [
    "# Your answer here\n",
    "\n",
    "for idx, row in df[:15].iterrows():\n",
    "    if row.is_rt == 0:\n",
    "        TYPE = \"Tweet\"\n",
    "    else:\n",
    "        TYPE = \"Retweet\"\n",
    "    text = row.text\n",
    "    \n",
    "    print(f\"[{TYPE}] {text}\\n\")"
   ]
  },
  {
   "cell_type": "markdown",
   "metadata": {},
   "source": [
    "8\\. (0.5 pts) Add a new column `num_words` to `df` such that each value in the column is the number word tokens in the `text` column value. (Use the <b>split</b> method to get a list of word tokens in a string).  "
   ]
  },
  {
   "cell_type": "code",
   "execution_count": 16,
   "metadata": {
    "scrolled": true
   },
   "outputs": [],
   "source": [
    "# Your answer here\n",
    "\n",
    "df[\"num_words\"] = df.text.apply(lambda x: len(x.split()))"
   ]
  },
  {
   "cell_type": "code",
   "execution_count": 17,
   "metadata": {
    "scrolled": true
   },
   "outputs": [
    {
     "data": {
      "text/html": [
       "<div>\n",
       "<style scoped>\n",
       "    .dataframe tbody tr th:only-of-type {\n",
       "        vertical-align: middle;\n",
       "    }\n",
       "\n",
       "    .dataframe tbody tr th {\n",
       "        vertical-align: top;\n",
       "    }\n",
       "\n",
       "    .dataframe thead th {\n",
       "        text-align: right;\n",
       "    }\n",
       "</style>\n",
       "<table border=\"1\" class=\"dataframe\">\n",
       "  <thead>\n",
       "    <tr style=\"text-align: right;\">\n",
       "      <th></th>\n",
       "      <th>text</th>\n",
       "      <th>num_words</th>\n",
       "    </tr>\n",
       "  </thead>\n",
       "  <tbody>\n",
       "    <tr>\n",
       "      <th>0</th>\n",
       "      <td>#Happy New Year - may it be prosperous and healthy for all@WrenthamTimes @WrenthamMATA @kpleo123 @WrenPD… https://t.co/blp9iRZRmu</td>\n",
       "      <td>16</td>\n",
       "    </tr>\n",
       "    <tr>\n",
       "      <th>1</th>\n",
       "      <td>RT @MujahidIslambd: I will promote and share your business with millions of peoplehttps://t.co/HtQtb838bQ#Happy New Year#MF DOOM#Feli…</td>\n",
       "      <td>16</td>\n",
       "    </tr>\n",
       "    <tr>\n",
       "      <th>2</th>\n",
       "      <td>#tammyrivera and her daughter #charlie out &amp;amp; about living their best life 😍😍 #mother #daughter #love #beach #happy… https://t.co/1VqzGOEjGB</td>\n",
       "      <td>19</td>\n",
       "    </tr>\n",
       "    <tr>\n",
       "      <th>3</th>\n",
       "      <td>RT @Suriya79675998: #happy valentine's day 2020🌹🌹🌹🌹 https://t.co/EvmupTbseg</td>\n",
       "      <td>7</td>\n",
       "    </tr>\n",
       "    <tr>\n",
       "      <th>4</th>\n",
       "      <td>RT @GPS_SecurityCan: Have a safe and Happy New Year #2021 #happy #globalprotectionservice #securityservices #ontarioSecurity #security #gau…</td>\n",
       "      <td>16</td>\n",
       "    </tr>\n",
       "    <tr>\n",
       "      <th>...</th>\n",
       "      <td>...</td>\n",
       "      <td>...</td>\n",
       "    </tr>\n",
       "    <tr>\n",
       "      <th>61120</th>\n",
       "      <td>Rainy day. #Weston #LabradorRetriever #dog #happy #blessed #newyear #rain #care #spoiled #thankyou #friends #love… https://t.co/D7DYLfUyNv</td>\n",
       "      <td>15</td>\n",
       "    </tr>\n",
       "    <tr>\n",
       "      <th>61121</th>\n",
       "      <td>#happy #f*cking #newyear   #2022 #everybody https://t.co/jepIZM7TGY</td>\n",
       "      <td>6</td>\n",
       "    </tr>\n",
       "    <tr>\n",
       "      <th>61122</th>\n",
       "      <td>#Happy #NewYear to each and everyone of you. May #2022 be filled with joy, peace and happiness. One Luv. https://t.co/6QGyj2yWjI</td>\n",
       "      <td>20</td>\n",
       "    </tr>\n",
       "    <tr>\n",
       "      <th>61123</th>\n",
       "      <td>RT @PitTheRedPanda: Happy New Yearhttps://t.co/JTSiTRIlxM#AsgardSoft #happy #new #year #2022 #love #music #instagood #art #beautiful #p…</td>\n",
       "      <td>15</td>\n",
       "    </tr>\n",
       "    <tr>\n",
       "      <th>61124</th>\n",
       "      <td>Happy new years#💞#🥳 #🎉 #🎊 #happynewyear #happy #instagood #instagram #happy2022 #noel #merrychristmas #art #newpost… https://t.co/QEnxtL4AVG</td>\n",
       "      <td>15</td>\n",
       "    </tr>\n",
       "  </tbody>\n",
       "</table>\n",
       "<p>61125 rows × 2 columns</p>\n",
       "</div>"
      ],
      "text/plain": [
       "                                                                                                                                                  text  \\\n",
       "0                    #Happy New Year - may it be prosperous and healthy for all@WrenthamTimes @WrenthamMATA @kpleo123 @WrenPD… https://t.co/blp9iRZRmu   \n",
       "1               RT @MujahidIslambd: I will promote and share your business with millions of peoplehttps://t.co/HtQtb838bQ#Happy New Year#MF DOOM#Feli…   \n",
       "2      #tammyrivera and her daughter #charlie out &amp; about living their best life 😍😍 #mother #daughter #love #beach #happy… https://t.co/1VqzGOEjGB   \n",
       "3                                                                          RT @Suriya79675998: #happy valentine's day 2020🌹🌹🌹🌹 https://t.co/EvmupTbseg   \n",
       "4         RT @GPS_SecurityCan: Have a safe and Happy New Year #2021 #happy #globalprotectionservice #securityservices #ontarioSecurity #security #gau…   \n",
       "...                                                                                                                                                ...   \n",
       "61120       Rainy day. #Weston #LabradorRetriever #dog #happy #blessed #newyear #rain #care #spoiled #thankyou #friends #love… https://t.co/D7DYLfUyNv   \n",
       "61121                                                                              #happy #f*cking #newyear   #2022 #everybody https://t.co/jepIZM7TGY   \n",
       "61122                 #Happy #NewYear to each and everyone of you. May #2022 be filled with joy, peace and happiness. One Luv. https://t.co/6QGyj2yWjI   \n",
       "61123         RT @PitTheRedPanda: Happy New Yearhttps://t.co/JTSiTRIlxM#AsgardSoft #happy #new #year #2022 #love #music #instagood #art #beautiful #p…   \n",
       "61124     Happy new years#💞#🥳 #🎉 #🎊 #happynewyear #happy #instagood #instagram #happy2022 #noel #merrychristmas #art #newpost… https://t.co/QEnxtL4AVG   \n",
       "\n",
       "       num_words  \n",
       "0             16  \n",
       "1             16  \n",
       "2             19  \n",
       "3              7  \n",
       "4             16  \n",
       "...          ...  \n",
       "61120         15  \n",
       "61121          6  \n",
       "61122         20  \n",
       "61123         15  \n",
       "61124         15  \n",
       "\n",
       "[61125 rows x 2 columns]"
      ]
     },
     "execution_count": 17,
     "metadata": {},
     "output_type": "execute_result"
    }
   ],
   "source": [
    "# Check your answer here. (Do not make any change to this cell. Just run this cell.)\n",
    "df[[\"text\", \"num_words\"]]"
   ]
  },
  {
   "cell_type": "markdown",
   "metadata": {},
   "source": [
    "9\\. (0.7 pts) Add a new column `text_date` to `df` such that each column value is a string in the format 'TEXT \\[posted on b DD, YYYY\\]', where TEXT is the first 50 characters in the `text` column value concatenated by '...'; b denotes the the abbreviated month name such as Jan and Feb; D denotes each digit in a day; Y denotes each digit in a year, all of which come from the `created_at` column value. For example, the first and last values in the new column must look the same as below, respectively. You may need to define a user defined function to add the new column.   "
   ]
  },
  {
   "cell_type": "raw",
   "metadata": {},
   "source": [
    "#Happy New Year - may it be prosperous and healthy... [posted on Jan 01, 2021]"
   ]
  },
  {
   "cell_type": "raw",
   "metadata": {},
   "source": [
    "Happy new years#💞#🥳 #🎉 #🎊 #happynewyear #happy #in... [posted on Dec 31, 2021]"
   ]
  },
  {
   "cell_type": "code",
   "execution_count": 18,
   "metadata": {},
   "outputs": [],
   "source": [
    "# Your answer here\n",
    "def extract(row):\n",
    "    text = row.text[:50]+\"...\"\n",
    "    b = row.created_at[4:7]\n",
    "    DD = row.created_at[8:10]\n",
    "    YYYY = row.created_at[-4:]\n",
    "    \n",
    "    return f\"{text}[posted on {b} {DD}, {YYYY}]\"\n",
    "    \n",
    "df[\"text_date\"] = df.apply(lambda x: extract(x), axis = 1)"
   ]
  },
  {
   "cell_type": "code",
   "execution_count": 19,
   "metadata": {
    "scrolled": true
   },
   "outputs": [
    {
     "data": {
      "text/html": [
       "<div>\n",
       "<style scoped>\n",
       "    .dataframe tbody tr th:only-of-type {\n",
       "        vertical-align: middle;\n",
       "    }\n",
       "\n",
       "    .dataframe tbody tr th {\n",
       "        vertical-align: top;\n",
       "    }\n",
       "\n",
       "    .dataframe thead th {\n",
       "        text-align: right;\n",
       "    }\n",
       "</style>\n",
       "<table border=\"1\" class=\"dataframe\">\n",
       "  <thead>\n",
       "    <tr style=\"text-align: right;\">\n",
       "      <th></th>\n",
       "      <th>text</th>\n",
       "      <th>created_at</th>\n",
       "      <th>text_date</th>\n",
       "    </tr>\n",
       "  </thead>\n",
       "  <tbody>\n",
       "    <tr>\n",
       "      <th>0</th>\n",
       "      <td>#Happy New Year - may it be prosperous and healthy for all@WrenthamTimes @WrenthamMATA @kpleo123 @WrenPD… https://t.co/blp9iRZRmu</td>\n",
       "      <td>Fri Jan 01 05:01:18 +0000 2021</td>\n",
       "      <td>#Happy New Year - may it be prosperous and healthy...[posted on Jan 01, 2021]</td>\n",
       "    </tr>\n",
       "    <tr>\n",
       "      <th>1</th>\n",
       "      <td>RT @MujahidIslambd: I will promote and share your business with millions of peoplehttps://t.co/HtQtb838bQ#Happy New Year#MF DOOM#Feli…</td>\n",
       "      <td>Fri Jan 01 05:02:44 +0000 2021</td>\n",
       "      <td>RT @MujahidIslambd: I will promote and share your ...[posted on Jan 01, 2021]</td>\n",
       "    </tr>\n",
       "    <tr>\n",
       "      <th>2</th>\n",
       "      <td>#tammyrivera and her daughter #charlie out &amp;amp; about living their best life 😍😍 #mother #daughter #love #beach #happy… https://t.co/1VqzGOEjGB</td>\n",
       "      <td>Fri Jan 01 05:04:13 +0000 2021</td>\n",
       "      <td>#tammyrivera and her daughter #charlie out &amp;amp; a...[posted on Jan 01, 2021]</td>\n",
       "    </tr>\n",
       "    <tr>\n",
       "      <th>3</th>\n",
       "      <td>RT @Suriya79675998: #happy valentine's day 2020🌹🌹🌹🌹 https://t.co/EvmupTbseg</td>\n",
       "      <td>Fri Jan 01 05:06:45 +0000 2021</td>\n",
       "      <td>RT @Suriya79675998: #happy valentine's day 2020🌹🌹🌹...[posted on Jan 01, 2021]</td>\n",
       "    </tr>\n",
       "    <tr>\n",
       "      <th>4</th>\n",
       "      <td>RT @GPS_SecurityCan: Have a safe and Happy New Year #2021 #happy #globalprotectionservice #securityservices #ontarioSecurity #security #gau…</td>\n",
       "      <td>Fri Jan 01 05:11:23 +0000 2021</td>\n",
       "      <td>RT @GPS_SecurityCan: Have a safe and Happy New Yea...[posted on Jan 01, 2021]</td>\n",
       "    </tr>\n",
       "    <tr>\n",
       "      <th>...</th>\n",
       "      <td>...</td>\n",
       "      <td>...</td>\n",
       "      <td>...</td>\n",
       "    </tr>\n",
       "    <tr>\n",
       "      <th>61120</th>\n",
       "      <td>Rainy day. #Weston #LabradorRetriever #dog #happy #blessed #newyear #rain #care #spoiled #thankyou #friends #love… https://t.co/D7DYLfUyNv</td>\n",
       "      <td>Fri Dec 31 23:37:02 +0000 2021</td>\n",
       "      <td>Rainy day. #Weston #LabradorRetriever #dog #happy ...[posted on Dec 31, 2021]</td>\n",
       "    </tr>\n",
       "    <tr>\n",
       "      <th>61121</th>\n",
       "      <td>#happy #f*cking #newyear   #2022 #everybody https://t.co/jepIZM7TGY</td>\n",
       "      <td>Fri Dec 31 23:38:02 +0000 2021</td>\n",
       "      <td>#happy #f*cking #newyear   #2022 #everybody https:...[posted on Dec 31, 2021]</td>\n",
       "    </tr>\n",
       "    <tr>\n",
       "      <th>61122</th>\n",
       "      <td>#Happy #NewYear to each and everyone of you. May #2022 be filled with joy, peace and happiness. One Luv. https://t.co/6QGyj2yWjI</td>\n",
       "      <td>Fri Dec 31 23:42:45 +0000 2021</td>\n",
       "      <td>#Happy #NewYear to each and everyone of you. May #...[posted on Dec 31, 2021]</td>\n",
       "    </tr>\n",
       "    <tr>\n",
       "      <th>61123</th>\n",
       "      <td>RT @PitTheRedPanda: Happy New Yearhttps://t.co/JTSiTRIlxM#AsgardSoft #happy #new #year #2022 #love #music #instagood #art #beautiful #p…</td>\n",
       "      <td>Fri Dec 31 23:43:00 +0000 2021</td>\n",
       "      <td>RT @PitTheRedPanda: Happy New Yearhttps://t.co/JTS...[posted on Dec 31, 2021]</td>\n",
       "    </tr>\n",
       "    <tr>\n",
       "      <th>61124</th>\n",
       "      <td>Happy new years#💞#🥳 #🎉 #🎊 #happynewyear #happy #instagood #instagram #happy2022 #noel #merrychristmas #art #newpost… https://t.co/QEnxtL4AVG</td>\n",
       "      <td>Fri Dec 31 23:46:47 +0000 2021</td>\n",
       "      <td>Happy new years#💞#🥳 #🎉 #🎊 #happynewyear #happy #in...[posted on Dec 31, 2021]</td>\n",
       "    </tr>\n",
       "  </tbody>\n",
       "</table>\n",
       "<p>61125 rows × 3 columns</p>\n",
       "</div>"
      ],
      "text/plain": [
       "                                                                                                                                                  text  \\\n",
       "0                    #Happy New Year - may it be prosperous and healthy for all@WrenthamTimes @WrenthamMATA @kpleo123 @WrenPD… https://t.co/blp9iRZRmu   \n",
       "1               RT @MujahidIslambd: I will promote and share your business with millions of peoplehttps://t.co/HtQtb838bQ#Happy New Year#MF DOOM#Feli…   \n",
       "2      #tammyrivera and her daughter #charlie out &amp; about living their best life 😍😍 #mother #daughter #love #beach #happy… https://t.co/1VqzGOEjGB   \n",
       "3                                                                          RT @Suriya79675998: #happy valentine's day 2020🌹🌹🌹🌹 https://t.co/EvmupTbseg   \n",
       "4         RT @GPS_SecurityCan: Have a safe and Happy New Year #2021 #happy #globalprotectionservice #securityservices #ontarioSecurity #security #gau…   \n",
       "...                                                                                                                                                ...   \n",
       "61120       Rainy day. #Weston #LabradorRetriever #dog #happy #blessed #newyear #rain #care #spoiled #thankyou #friends #love… https://t.co/D7DYLfUyNv   \n",
       "61121                                                                              #happy #f*cking #newyear   #2022 #everybody https://t.co/jepIZM7TGY   \n",
       "61122                 #Happy #NewYear to each and everyone of you. May #2022 be filled with joy, peace and happiness. One Luv. https://t.co/6QGyj2yWjI   \n",
       "61123         RT @PitTheRedPanda: Happy New Yearhttps://t.co/JTSiTRIlxM#AsgardSoft #happy #new #year #2022 #love #music #instagood #art #beautiful #p…   \n",
       "61124     Happy new years#💞#🥳 #🎉 #🎊 #happynewyear #happy #instagood #instagram #happy2022 #noel #merrychristmas #art #newpost… https://t.co/QEnxtL4AVG   \n",
       "\n",
       "                           created_at  \\\n",
       "0      Fri Jan 01 05:01:18 +0000 2021   \n",
       "1      Fri Jan 01 05:02:44 +0000 2021   \n",
       "2      Fri Jan 01 05:04:13 +0000 2021   \n",
       "3      Fri Jan 01 05:06:45 +0000 2021   \n",
       "4      Fri Jan 01 05:11:23 +0000 2021   \n",
       "...                               ...   \n",
       "61120  Fri Dec 31 23:37:02 +0000 2021   \n",
       "61121  Fri Dec 31 23:38:02 +0000 2021   \n",
       "61122  Fri Dec 31 23:42:45 +0000 2021   \n",
       "61123  Fri Dec 31 23:43:00 +0000 2021   \n",
       "61124  Fri Dec 31 23:46:47 +0000 2021   \n",
       "\n",
       "                                                                           text_date  \n",
       "0      #Happy New Year - may it be prosperous and healthy...[posted on Jan 01, 2021]  \n",
       "1      RT @MujahidIslambd: I will promote and share your ...[posted on Jan 01, 2021]  \n",
       "2      #tammyrivera and her daughter #charlie out &amp; a...[posted on Jan 01, 2021]  \n",
       "3      RT @Suriya79675998: #happy valentine's day 2020🌹🌹🌹...[posted on Jan 01, 2021]  \n",
       "4      RT @GPS_SecurityCan: Have a safe and Happy New Yea...[posted on Jan 01, 2021]  \n",
       "...                                                                              ...  \n",
       "61120  Rainy day. #Weston #LabradorRetriever #dog #happy ...[posted on Dec 31, 2021]  \n",
       "61121  #happy #f*cking #newyear   #2022 #everybody https:...[posted on Dec 31, 2021]  \n",
       "61122  #Happy #NewYear to each and everyone of you. May #...[posted on Dec 31, 2021]  \n",
       "61123  RT @PitTheRedPanda: Happy New Yearhttps://t.co/JTS...[posted on Dec 31, 2021]  \n",
       "61124  Happy new years#💞#🥳 #🎉 #🎊 #happynewyear #happy #in...[posted on Dec 31, 2021]  \n",
       "\n",
       "[61125 rows x 3 columns]"
      ]
     },
     "execution_count": 19,
     "metadata": {},
     "output_type": "execute_result"
    }
   ],
   "source": [
    "# Check your answer here. (Do not make any change to this cell. Just run this cell.)\n",
    "df[[\"text\", \"created_at\", \"text_date\"]]"
   ]
  },
  {
   "cell_type": "markdown",
   "metadata": {},
   "source": [
    "10\\. (0.5 pts) Add a new column `mention_year` to `df` such that each column value is either True if the `text` column value contains the word '*year*' (case-insensitive) or False otherwise. For example, the first value in the new column must be True, as the text does contain the word '*Year*', whereas the third value must be False, as the text does not have the word.  "
   ]
  },
  {
   "cell_type": "code",
   "execution_count": 20,
   "metadata": {},
   "outputs": [],
   "source": [
    "# Your answer here\n",
    "\n",
    "df[\"mention_year\"] = df.text.apply(lambda x: True if (\"year\" in x.lower()) else False)"
   ]
  },
  {
   "cell_type": "code",
   "execution_count": 21,
   "metadata": {},
   "outputs": [
    {
     "data": {
      "text/html": [
       "<div>\n",
       "<style scoped>\n",
       "    .dataframe tbody tr th:only-of-type {\n",
       "        vertical-align: middle;\n",
       "    }\n",
       "\n",
       "    .dataframe tbody tr th {\n",
       "        vertical-align: top;\n",
       "    }\n",
       "\n",
       "    .dataframe thead th {\n",
       "        text-align: right;\n",
       "    }\n",
       "</style>\n",
       "<table border=\"1\" class=\"dataframe\">\n",
       "  <thead>\n",
       "    <tr style=\"text-align: right;\">\n",
       "      <th></th>\n",
       "      <th>text</th>\n",
       "      <th>mention_year</th>\n",
       "    </tr>\n",
       "  </thead>\n",
       "  <tbody>\n",
       "    <tr>\n",
       "      <th>0</th>\n",
       "      <td>#Happy New Year - may it be prosperous and healthy for all@WrenthamTimes @WrenthamMATA @kpleo123 @WrenPD… https://t.co/blp9iRZRmu</td>\n",
       "      <td>True</td>\n",
       "    </tr>\n",
       "    <tr>\n",
       "      <th>1</th>\n",
       "      <td>RT @MujahidIslambd: I will promote and share your business with millions of peoplehttps://t.co/HtQtb838bQ#Happy New Year#MF DOOM#Feli…</td>\n",
       "      <td>True</td>\n",
       "    </tr>\n",
       "    <tr>\n",
       "      <th>2</th>\n",
       "      <td>#tammyrivera and her daughter #charlie out &amp;amp; about living their best life 😍😍 #mother #daughter #love #beach #happy… https://t.co/1VqzGOEjGB</td>\n",
       "      <td>False</td>\n",
       "    </tr>\n",
       "    <tr>\n",
       "      <th>3</th>\n",
       "      <td>RT @Suriya79675998: #happy valentine's day 2020🌹🌹🌹🌹 https://t.co/EvmupTbseg</td>\n",
       "      <td>False</td>\n",
       "    </tr>\n",
       "    <tr>\n",
       "      <th>4</th>\n",
       "      <td>RT @GPS_SecurityCan: Have a safe and Happy New Year #2021 #happy #globalprotectionservice #securityservices #ontarioSecurity #security #gau…</td>\n",
       "      <td>True</td>\n",
       "    </tr>\n",
       "    <tr>\n",
       "      <th>...</th>\n",
       "      <td>...</td>\n",
       "      <td>...</td>\n",
       "    </tr>\n",
       "    <tr>\n",
       "      <th>61120</th>\n",
       "      <td>Rainy day. #Weston #LabradorRetriever #dog #happy #blessed #newyear #rain #care #spoiled #thankyou #friends #love… https://t.co/D7DYLfUyNv</td>\n",
       "      <td>True</td>\n",
       "    </tr>\n",
       "    <tr>\n",
       "      <th>61121</th>\n",
       "      <td>#happy #f*cking #newyear   #2022 #everybody https://t.co/jepIZM7TGY</td>\n",
       "      <td>True</td>\n",
       "    </tr>\n",
       "    <tr>\n",
       "      <th>61122</th>\n",
       "      <td>#Happy #NewYear to each and everyone of you. May #2022 be filled with joy, peace and happiness. One Luv. https://t.co/6QGyj2yWjI</td>\n",
       "      <td>True</td>\n",
       "    </tr>\n",
       "    <tr>\n",
       "      <th>61123</th>\n",
       "      <td>RT @PitTheRedPanda: Happy New Yearhttps://t.co/JTSiTRIlxM#AsgardSoft #happy #new #year #2022 #love #music #instagood #art #beautiful #p…</td>\n",
       "      <td>True</td>\n",
       "    </tr>\n",
       "    <tr>\n",
       "      <th>61124</th>\n",
       "      <td>Happy new years#💞#🥳 #🎉 #🎊 #happynewyear #happy #instagood #instagram #happy2022 #noel #merrychristmas #art #newpost… https://t.co/QEnxtL4AVG</td>\n",
       "      <td>True</td>\n",
       "    </tr>\n",
       "  </tbody>\n",
       "</table>\n",
       "<p>61125 rows × 2 columns</p>\n",
       "</div>"
      ],
      "text/plain": [
       "                                                                                                                                                  text  \\\n",
       "0                    #Happy New Year - may it be prosperous and healthy for all@WrenthamTimes @WrenthamMATA @kpleo123 @WrenPD… https://t.co/blp9iRZRmu   \n",
       "1               RT @MujahidIslambd: I will promote and share your business with millions of peoplehttps://t.co/HtQtb838bQ#Happy New Year#MF DOOM#Feli…   \n",
       "2      #tammyrivera and her daughter #charlie out &amp; about living their best life 😍😍 #mother #daughter #love #beach #happy… https://t.co/1VqzGOEjGB   \n",
       "3                                                                          RT @Suriya79675998: #happy valentine's day 2020🌹🌹🌹🌹 https://t.co/EvmupTbseg   \n",
       "4         RT @GPS_SecurityCan: Have a safe and Happy New Year #2021 #happy #globalprotectionservice #securityservices #ontarioSecurity #security #gau…   \n",
       "...                                                                                                                                                ...   \n",
       "61120       Rainy day. #Weston #LabradorRetriever #dog #happy #blessed #newyear #rain #care #spoiled #thankyou #friends #love… https://t.co/D7DYLfUyNv   \n",
       "61121                                                                              #happy #f*cking #newyear   #2022 #everybody https://t.co/jepIZM7TGY   \n",
       "61122                 #Happy #NewYear to each and everyone of you. May #2022 be filled with joy, peace and happiness. One Luv. https://t.co/6QGyj2yWjI   \n",
       "61123         RT @PitTheRedPanda: Happy New Yearhttps://t.co/JTSiTRIlxM#AsgardSoft #happy #new #year #2022 #love #music #instagood #art #beautiful #p…   \n",
       "61124     Happy new years#💞#🥳 #🎉 #🎊 #happynewyear #happy #instagood #instagram #happy2022 #noel #merrychristmas #art #newpost… https://t.co/QEnxtL4AVG   \n",
       "\n",
       "       mention_year  \n",
       "0              True  \n",
       "1              True  \n",
       "2             False  \n",
       "3             False  \n",
       "4              True  \n",
       "...             ...  \n",
       "61120          True  \n",
       "61121          True  \n",
       "61122          True  \n",
       "61123          True  \n",
       "61124          True  \n",
       "\n",
       "[61125 rows x 2 columns]"
      ]
     },
     "execution_count": 21,
     "metadata": {},
     "output_type": "execute_result"
    }
   ],
   "source": [
    "# Check your answer here. (Do not make any change to this cell. Just run this cell.)\n",
    "df[[\"text\", \"mention_year\"]]"
   ]
  },
  {
   "cell_type": "markdown",
   "metadata": {},
   "source": [
    "<hr>"
   ]
  },
  {
   "cell_type": "markdown",
   "metadata": {},
   "source": [
    "Import the <b>re</b> module to use regular expressions. "
   ]
  },
  {
   "cell_type": "code",
   "execution_count": 22,
   "metadata": {},
   "outputs": [],
   "source": [
    "import re"
   ]
  },
  {
   "cell_type": "markdown",
   "metadata": {},
   "source": [
    "String `html` contains some HTML code. "
   ]
  },
  {
   "cell_type": "code",
   "execution_count": 23,
   "metadata": {},
   "outputs": [
    {
     "data": {
      "text/plain": [
       "'<!DOCTYPE html><html><body><h2>HTML Images</h2><p>HTML images are defined with the img tag:</p><img src=\"w3schools.jpg\" alt=\"W3Schools.com\" width=\"104\" height=\"142\"></body></html>'"
      ]
     },
     "execution_count": 23,
     "metadata": {},
     "output_type": "execute_result"
    }
   ],
   "source": [
    "# Make sure to run this cell.\n",
    "html = '<!DOCTYPE html><html><body><h2>HTML Images</h2><p>HTML images are defined with the img tag:</p><img src=\"w3schools.jpg\" alt=\"W3Schools.com\" width=\"104\" height=\"142\"></body></html>'\n",
    "html"
   ]
  },
  {
   "cell_type": "markdown",
   "metadata": {},
   "source": [
    "11\\. (0.5 pts) An HTML element starts with the `<html>` tag and ends with `</html>` tag. Using a regular expression, get a list of strings containing the HTML element in `html` and save the resulting list in the variable `ans11`. The list must look the same as below:"
   ]
  },
  {
   "cell_type": "raw",
   "metadata": {},
   "source": [
    "['<html><body><h2>HTML Images</h2><p>HTML images are defined with the img tag:</p><img src=\"w3schools.jpg\" alt=\"W3Schools.com\" width=\"104\" height=\"142\"></body></html>']"
   ]
  },
  {
   "cell_type": "code",
   "execution_count": 24,
   "metadata": {},
   "outputs": [],
   "source": [
    "# Your answer here\n",
    "#</html>\n",
    "ans11 = re.findall(\"<html>[\\w\\s<>/=:\\\"\\.]+</html>\", html)"
   ]
  },
  {
   "cell_type": "code",
   "execution_count": 25,
   "metadata": {},
   "outputs": [
    {
     "data": {
      "text/plain": [
       "['<html><body><h2>HTML Images</h2><p>HTML images are defined with the img tag:</p><img src=\"w3schools.jpg\" alt=\"W3Schools.com\" width=\"104\" height=\"142\"></body></html>']"
      ]
     },
     "execution_count": 25,
     "metadata": {},
     "output_type": "execute_result"
    }
   ],
   "source": [
    "# Check your answer here. (Do not make any change to this cell. Just run this cell.)\n",
    "ans11"
   ]
  },
  {
   "cell_type": "markdown",
   "metadata": {},
   "source": [
    "12\\. (0.6 pts) A P element starts with the `<p>` tag and ends with `</p>` tag. Using a regular expression, get a list of strings containing only the text part between the start tag and the end tag in `html` and save the resulting list in the variable `ans12`. The list must look the same as below:"
   ]
  },
  {
   "cell_type": "raw",
   "metadata": {},
   "source": [
    "['HTML images are defined with the img tag:']"
   ]
  },
  {
   "cell_type": "code",
   "execution_count": 26,
   "metadata": {},
   "outputs": [],
   "source": [
    "# Your answer here\n",
    "\n",
    "ans12 = re.findall(\"<p>([\\w\\s:]+)</p>\", html)"
   ]
  },
  {
   "cell_type": "code",
   "execution_count": 27,
   "metadata": {},
   "outputs": [
    {
     "data": {
      "text/plain": [
       "['HTML images are defined with the img tag:']"
      ]
     },
     "execution_count": 27,
     "metadata": {},
     "output_type": "execute_result"
    }
   ],
   "source": [
    "# Check your answer here. (Do not make any change to this cell. Just run this cell.)\n",
    "ans12"
   ]
  },
  {
   "cell_type": "markdown",
   "metadata": {},
   "source": [
    "String `text` contains several email addresses in it. "
   ]
  },
  {
   "cell_type": "code",
   "execution_count": 28,
   "metadata": {},
   "outputs": [
    {
     "name": "stdout",
     "output_type": "stream",
     "text": [
      "If you have any questions, please contact any of the following session organizers:\n",
      "\n",
      "Roy Barnes, rcbarnes@umich.edu\n",
      "Josh Murray, josh.murray@vanderbilt.edu\n",
      "Tarun Banerjee, tarunbanerjee@pitt.edu\n",
      "Eelke Heemskerk, E.M.Heemskerk@uva.nl\n",
      "Mohamed Oubenal, oubenal1@gmail.com\n",
      "\n",
      "If you have any problems with the system please do not hesitate to contact info@data-mining-forum.de.\n",
      "\n",
      "We look forward to seeing you in Paris!\n"
     ]
    }
   ],
   "source": [
    "# Make sure to run this cell.\n",
    "text = \"If you have any questions, please contact any of the following session organizers:\\n\\n\\\n",
    "Roy Barnes, rcbarnes@umich.edu\\n\\\n",
    "Josh Murray, josh.murray@vanderbilt.edu\\n\\\n",
    "Tarun Banerjee, tarunbanerjee@pitt.edu\\n\\\n",
    "Eelke Heemskerk, E.M.Heemskerk@uva.nl\\n\\\n",
    "Mohamed Oubenal, oubenal1@gmail.com\\n\\n\\\n",
    "If you have any problems with the system please do not hesitate to contact info@data-mining-forum.de.\\n\\n\\\n",
    "We look forward to seeing you in Paris!\"\n",
    "\n",
    "print(text)"
   ]
  },
  {
   "cell_type": "markdown",
   "metadata": {},
   "source": [
    "13\\. (0.5 pts) Using a regular expression, get a list of strings containing all the email addresses in `text` and save the resulting list in the variable `ans13`. The list must contain all six email addresses as follows:"
   ]
  },
  {
   "cell_type": "raw",
   "metadata": {},
   "source": [
    "['rcbarnes@umich.edu',\n",
    " 'josh.murray@vanderbilt.edu',\n",
    " 'tarunbanerjee@pitt.edu',\n",
    " 'E.M.Heemskerk@uva.nl',\n",
    " 'oubenal1@gmail.com',\n",
    " 'info@data-mining-forum.de']"
   ]
  },
  {
   "cell_type": "code",
   "execution_count": 29,
   "metadata": {
    "scrolled": true
   },
   "outputs": [],
   "source": [
    "# Your answer here\n",
    "ans13 = re.findall(pattern=\"[a-zA-Z0-9\\.]+@[a-z\\.-]+\", string=text)"
   ]
  },
  {
   "cell_type": "code",
   "execution_count": 30,
   "metadata": {},
   "outputs": [
    {
     "data": {
      "text/plain": [
       "['rcbarnes@umich.edu',\n",
       " 'josh.murray@vanderbilt.edu',\n",
       " 'tarunbanerjee@pitt.edu',\n",
       " 'E.M.Heemskerk@uva.nl',\n",
       " 'oubenal1@gmail.com',\n",
       " 'info@data-mining-forum.de.']"
      ]
     },
     "execution_count": 30,
     "metadata": {},
     "output_type": "execute_result"
    }
   ],
   "source": [
    "# Check your answer here. (Do not make any change to this cell. Just run this cell.)\n",
    "ans13"
   ]
  },
  {
   "cell_type": "markdown",
   "metadata": {},
   "source": [
    "### Now that you have completed all the questions, click Kernel > Restart & Run All to creat a clean version of this notebook and check if all cells have run as expected. "
   ]
  },
  {
   "cell_type": "markdown",
   "metadata": {},
   "source": [
    "## Quick Survey"
   ]
  },
  {
   "cell_type": "markdown",
   "metadata": {},
   "source": [
    "How long did it take you to complete this homework? (This will not affect your score. Your answer will be very helpful for the instructor to design homewoks and exams. Thank you!)"
   ]
  },
  {
   "cell_type": "markdown",
   "metadata": {},
   "source": [
    ": 240 minutes"
   ]
  }
 ],
 "metadata": {
  "kernelspec": {
   "display_name": "Python 3 (ipykernel)",
   "language": "python",
   "name": "python3"
  },
  "language_info": {
   "codemirror_mode": {
    "name": "ipython",
    "version": 3
   },
   "file_extension": ".py",
   "mimetype": "text/x-python",
   "name": "python",
   "nbconvert_exporter": "python",
   "pygments_lexer": "ipython3",
   "version": "3.9.1"
  }
 },
 "nbformat": 4,
 "nbformat_minor": 2
}
